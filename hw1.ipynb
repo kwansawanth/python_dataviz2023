{
  "nbformat": 4,
  "nbformat_minor": 0,
  "metadata": {
    "colab": {
      "provenance": [],
      "authorship_tag": "ABX9TyMD0Gzq0yKMCQHP8eFHAX2g",
      "include_colab_link": true
    },
    "kernelspec": {
      "name": "python3",
      "display_name": "Python 3"
    },
    "language_info": {
      "name": "python"
    }
  },
  "cells": [
    {
      "cell_type": "markdown",
      "metadata": {
        "id": "view-in-github",
        "colab_type": "text"
      },
      "source": [
        "<a href=\"https://colab.research.google.com/github/kwansawanth/python_dataviz2023/blob/main/hw1.ipynb\" target=\"_parent\"><img src=\"https://colab.research.google.com/assets/colab-badge.svg\" alt=\"Open In Colab\"/></a>"
      ]
    },
    {
      "cell_type": "markdown",
      "source": [
        "#HW1\n",
        "คำนวณว่าช่วงเวลาเหล่านี้ห่างกันกี่ชั่วโมง กี่นาที กี่วินาที(printออกมาให้สวยงาม)\n",
        "###1. 12:30:15-13:41:07\n",
        "###2. 09:11:50-21:30:15\n",
        "###3. 19:25:30-03:10:15"
      ],
      "metadata": {
        "id": "vzJAYLt5RGGm"
      }
    },
    {
      "cell_type": "code",
      "execution_count": 2,
      "metadata": {
        "colab": {
          "base_uri": "https://localhost:8080/"
        },
        "id": "wlUdyY49RDMf",
        "outputId": "752f1ecb-c3f3-4ee8-8ecf-1073294a176e"
      },
      "outputs": [
        {
          "output_type": "stream",
          "name": "stdout",
          "text": [
            "['12', '30', '15']\n",
            "['13', '41', '07']\n",
            "12:30:15 - 13:41:07แปลงเป็นความต่างของเวลาเป็นวินาทีได้ 4252 วินาที\n",
            "เวลาห่างกัน 1 ชั่วโมง 10 นาที 52 วินาที\n"
          ]
        }
      ],
      "source": [
        "# ข้อ1\n",
        "a = '12:30:15'\n",
        "a_sp = a.split(':')\n",
        "print(a_sp)\n",
        "ans5= int(a_sp[0])*3600+int (a_sp[1])*60+int (a_sp[2])\n",
        "b = '13:41:07'\n",
        "b_sp = b.split(':')\n",
        "print(b_sp)\n",
        "ans6= int(b_sp[0])*3600+int (b_sp[1])*60+int (b_sp[2])\n",
        "ans = ans6-ans5\n",
        "print(f'12:30:15 - 13:41:07แปลงเป็นความต่างของเวลาเป็นวินาทีได้ {ans} วินาที')\n",
        "seconds = ans\n",
        "\n",
        "seconds = seconds % (24 * 3600)\n",
        "hour = seconds // 3600\n",
        "seconds %= 3600\n",
        "minutes = seconds // 60\n",
        "seconds %= 60\n",
        "\n",
        "print(\"เวลาห่างกัน\",(hour),\"ชั่วโมง\",(minutes),\"นาที\",(seconds),\"วินาที\")"
      ]
    },
    {
      "cell_type": "code",
      "source": [
        "#ข้อ2\n",
        "a = '09:11:50'\n",
        "a_sp = a.split(':')\n",
        "print(a_sp)\n",
        "ans5= int(a_sp[0])*3600+int (a_sp[1])*60+int (a_sp[2])\n",
        "b = '21:30:15'\n",
        "b_sp = b.split(':')\n",
        "print(b_sp)\n",
        "ans6= int(b_sp[0])*3600+int (b_sp[1])*60+int (b_sp[2])\n",
        "ans = ans6-ans5\n",
        "print(f'09:11:50 - 21:30:15แปลงเป็นความต่างของเวลาเป็นวินาทีได้ {ans} วินาที')\n",
        "seconds = ans\n",
        "\n",
        "seconds = seconds % (24 * 3600)\n",
        "hour = seconds // 3600\n",
        "seconds %= 3600\n",
        "minutes = seconds // 60\n",
        "seconds %= 60\n",
        "\n",
        "print(\"เวลาห่างกัน\",(hour),\"ชั่วโมง\",(minutes),\"นาที\",(seconds),\"วินาที\")"
      ],
      "metadata": {
        "colab": {
          "base_uri": "https://localhost:8080/"
        },
        "id": "0FL8EomnSNlD",
        "outputId": "ebf80778-04e6-4398-bc3b-0cdd5a69227a"
      },
      "execution_count": 3,
      "outputs": [
        {
          "output_type": "stream",
          "name": "stdout",
          "text": [
            "['09', '11', '50']\n",
            "['21', '30', '15']\n",
            "09:11:50 - 21:30:15แปลงเป็นความต่างของเวลาเป็นวินาทีได้ 44305 วินาที\n",
            "เวลาห่างกัน 12 ชั่วโมง 18 นาที 25 วินาที\n"
          ]
        }
      ]
    },
    {
      "cell_type": "code",
      "source": [
        "#ข้อ3\n",
        "a = '19:25:30'\n",
        "a_sp = a.split(':')\n",
        "print(a_sp)\n",
        "ans5= int(a_sp[0])*3600+int (a_sp[1])*60+int (a_sp[2])\n",
        "b = '03:10:15'\n",
        "b_sp = b.split(':')\n",
        "print(b_sp)\n",
        "ans6= int(b_sp[0])*3600+int (b_sp[1])*60+int (b_sp[2])\n",
        "ans = ans6-ans5\n",
        "print(f'09:11:50 - 21:30:15แปลงเป็นความต่างของเวลาเป็นวินาทีได้ {-ans} วินาที')\n",
        "\n",
        "seconds = ans\n",
        "seconds = seconds % (24 * 3600)\n",
        "\n",
        "hour = seconds // 3600\n",
        "seconds %= 3600\n",
        "\n",
        "minutes = seconds // 60\n",
        "seconds %= 60\n",
        "\n",
        "print(\"เวลาห่างกัน\",(hour),\"ชั่วโมง\",(minutes),\"นาที\",(seconds),\"วินาที\")"
      ],
      "metadata": {
        "colab": {
          "base_uri": "https://localhost:8080/"
        },
        "id": "PnuA3d7mSa_X",
        "outputId": "15467349-6548-4575-f4fa-cc5c071b8e54"
      },
      "execution_count": 4,
      "outputs": [
        {
          "output_type": "stream",
          "name": "stdout",
          "text": [
            "['19', '25', '30']\n",
            "['03', '10', '15']\n",
            "09:11:50 - 21:30:15แปลงเป็นความต่างของเวลาเป็นวินาทีได้ 58515 วินาที\n",
            "เวลาห่างกัน 7 ชั่วโมง 44 นาที 45 วินาที\n"
          ]
        }
      ]
    }
  ]
}