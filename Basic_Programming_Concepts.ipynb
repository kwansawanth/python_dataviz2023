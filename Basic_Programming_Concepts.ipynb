{
  "nbformat": 4,
  "nbformat_minor": 0,
  "metadata": {
    "colab": {
      "provenance": [],
      "toc_visible": true,
      "include_colab_link": true
    },
    "kernelspec": {
      "name": "python3",
      "display_name": "Python 3"
    },
    "language_info": {
      "name": "python"
    }
  },
  "cells": [
    {
      "cell_type": "markdown",
      "metadata": {
        "id": "view-in-github",
        "colab_type": "text"
      },
      "source": [
        "<a href=\"https://colab.research.google.com/github/kwansawanth/python_dataviz2023/blob/main/Basic_Programming_Concepts.ipynb\" target=\"_parent\"><img src=\"https://colab.research.google.com/assets/colab-badge.svg\" alt=\"Open In Colab\"/></a>"
      ]
    },
    {
      "cell_type": "markdown",
      "source": [
        "# Functions ($f(x) = y$)"
      ],
      "metadata": {
        "id": "ndEUxng4DYIK"
      }
    },
    {
      "cell_type": "markdown",
      "source": [
        "```python\n",
        "def function_name(input_x):\n",
        "    # do something with input_x to get output_y\n",
        "    return output_y\n",
        "```\n",
        "def = นิยามของฟังก์ชัน"
      ],
      "metadata": {
        "id": "_mdeQu1_ED6H"
      }
    },
    {
      "cell_type": "markdown",
      "source": [
        "$f_1(x)=x^2 + 75$"
      ],
      "metadata": {
        "id": "MO3KLkCLFvns"
      }
    },
    {
      "cell_type": "code",
      "source": [
        "def function_f1(x):\n",
        "    a = x**2   # ** = ยกกำลัง2\n",
        "    y = a + 75\n",
        "    return y\n",
        "# codeที่เยื้องเป็นส่วนนหนึ่งของบรรทัดบนที่ไม่เยื้อง code\n",
        "#print('done!')\n",
        "\n",
        "# code ที่อยู่ลำดับเดียวกันมีความสำคัญเท่ากัน"
      ],
      "metadata": {
        "id": "FuxV7IAtD02T"
      },
      "execution_count": 3,
      "outputs": []
    },
    {
      "cell_type": "code",
      "source": [
        "function_f1(3)"
      ],
      "metadata": {
        "colab": {
          "base_uri": "https://localhost:8080/"
        },
        "id": "lwE0P085D0zG",
        "outputId": "4a185dea-fad6-4674-d67f-f3b6efabfbbd"
      },
      "execution_count": null,
      "outputs": [
        {
          "output_type": "execute_result",
          "data": {
            "text/plain": [
              "84"
            ]
          },
          "metadata": {},
          "execution_count": 3
        }
      ]
    },
    {
      "cell_type": "markdown",
      "source": [
        "function มีส่วนสำคัญทั้งหมด 4 ส่วน\n",
        "\n",
        "1. บอก python ว่าเราจะเขียนฟังก์ชั่น ชื่ออะไร  `def function_name()`: (ขาดไม่ได้)\n",
        "2. กำหนดตัวแปรที่จะเป็น input  _Input_ (ขาดได้)\n",
        "3. ส่วนประมวลผล do_something with _Input_ to get _Output_ (ขาดไม่ได้)\n",
        "4. ส่วน output `return` _Output_(ขาดได้)"
      ],
      "metadata": {
        "id": "5VC3up0SHLU2"
      }
    },
    {
      "cell_type": "markdown",
      "source": [
        "### ตัวอย่าง function ที่มีส่วนประกอบครบ\n"
      ],
      "metadata": {
        "id": "3f5MrI9RH3-t"
      }
    },
    {
      "cell_type": "code",
      "source": [
        "def function_f1(x):\n",
        "    a = x**2\n",
        "    y = a + 75\n",
        "    return y"
      ],
      "metadata": {
        "id": "T1SwjUsiDzow"
      },
      "execution_count": null,
      "outputs": []
    },
    {
      "cell_type": "markdown",
      "source": [
        "### ตัวอย่าง function ที่ ไม่มี input\n",
        "ทำงานเหมือนเดิมตลอด ค่าไม่เปลี่ยนแปลง"
      ],
      "metadata": {
        "id": "QewiXPJZICyV"
      }
    },
    {
      "cell_type": "code",
      "source": [
        "def pi_v():\n",
        "    y = 3.14159265359\n",
        "    return y"
      ],
      "metadata": {
        "id": "JNws0MGlDzg7"
      },
      "execution_count": null,
      "outputs": []
    },
    {
      "cell_type": "code",
      "source": [
        "#หาพท.วงกลม รัศมี = 2/// สูตร  pi r^2   ผลลัพธ์เหมือนเดิม\n",
        "piv = pi_v()\n",
        "circle_area_r2 = piv*(2**2)\n",
        "print(circle_area_r2)"
      ],
      "metadata": {
        "colab": {
          "base_uri": "https://localhost:8080/"
        },
        "id": "mLHwTEGiDzd7",
        "outputId": "de8b3efe-9bfd-4250-8ee4-c8f064941578"
      },
      "execution_count": null,
      "outputs": [
        {
          "output_type": "stream",
          "name": "stdout",
          "text": [
            "12.56637061436\n"
          ]
        }
      ]
    },
    {
      "cell_type": "markdown",
      "source": [
        "### Function ไม่มี process ไม่ได้"
      ],
      "metadata": {
        "id": "FYsIsEDpJKZb"
      }
    },
    {
      "cell_type": "code",
      "source": [
        "def function_a():"
      ],
      "metadata": {
        "colab": {
          "base_uri": "https://localhost:8080/",
          "height": 130
        },
        "id": "rm0nhmHeDzaj",
        "outputId": "69f4d943-02a0-41fb-ff97-78e2740a9d42"
      },
      "execution_count": null,
      "outputs": [
        {
          "output_type": "error",
          "ename": "SyntaxError",
          "evalue": "ignored",
          "traceback": [
            "\u001b[0;36m  File \u001b[0;32m\"<ipython-input-10-07a0750214a8>\"\u001b[0;36m, line \u001b[0;32m1\u001b[0m\n\u001b[0;31m    def function_a():\u001b[0m\n\u001b[0m                     ^\u001b[0m\n\u001b[0;31mSyntaxError\u001b[0m\u001b[0;31m:\u001b[0m unexpected EOF while parsing\n"
          ]
        }
      ]
    },
    {
      "cell_type": "markdown",
      "source": [
        "ตัวอย่าง Function ที่ไม่มี output"
      ],
      "metadata": {
        "id": "ShvGkn6CJWXF"
      }
    },
    {
      "cell_type": "code",
      "source": [
        "def print_name_id(name,id):\n",
        "    print(f'ชื่อ {name} รหัสประจำตัว {id}') #กระบวนการว่าให้เเสดง ชื่อ"
      ],
      "metadata": {
        "id": "ik5FyttBDzXy"
      },
      "execution_count": null,
      "outputs": []
    },
    {
      "cell_type": "code",
      "source": [
        "print_name_id('ณัฐธิดา','623020435-1')"
      ],
      "metadata": {
        "colab": {
          "base_uri": "https://localhost:8080/"
        },
        "id": "1PjEoA-uDzU_",
        "outputId": "50b73e85-37d7-412e-c862-de0778a95d65"
      },
      "execution_count": null,
      "outputs": [
        {
          "output_type": "stream",
          "name": "stdout",
          "text": [
            "ชื่อ ณัฐธิดา รหัสประจำตัว 623020435-1\n"
          ]
        }
      ]
    },
    {
      "cell_type": "code",
      "source": [
        "a = print_name_id('ณัฐธิดา','623020435-1')"
      ],
      "metadata": {
        "colab": {
          "base_uri": "https://localhost:8080/"
        },
        "id": "sLMZG-KQKcHU",
        "outputId": "b7cb0164-5b1f-4a1f-9def-080e7cdfe9cf"
      },
      "execution_count": null,
      "outputs": [
        {
          "output_type": "stream",
          "name": "stdout",
          "text": [
            "ชื่อ ณัฐธิดา รหัสประจำตัว 623020435-1\n"
          ]
        }
      ]
    },
    {
      "cell_type": "code",
      "source": [
        "a # เป็นช่องว่างเพราะ ไม่มีการ  return  ค่า"
      ],
      "metadata": {
        "id": "3zKkSXWFKghw"
      },
      "execution_count": null,
      "outputs": []
    },
    {
      "cell_type": "markdown",
      "source": [
        "print()  ใส่ input ได้หลายตัว\n",
        "-   ** คือ จำเป็นต้องใส่\n",
        "- = คือ ไม่จำเป็นต้องใส่ มีค่าตั้งต้นมาให้\n",
        "- end คือ จบบรรทัด  \\n คือด้วยการขึ้นบรรทัดใหม่\n",
        "- sep คือ เว้นวรรคค่าด้วย ' ' คือ ช่องว่าง"
      ],
      "metadata": {
        "id": "-YxOR80A9a3u"
      }
    },
    {
      "cell_type": "code",
      "source": [
        "print('ณัฐธิดา')\n",
        "print('623020435-1')"
      ],
      "metadata": {
        "colab": {
          "base_uri": "https://localhost:8080/"
        },
        "id": "XrZeH87fO1i_",
        "outputId": "65963a3b-5d84-4275-c236-d5112fd73af6"
      },
      "execution_count": null,
      "outputs": [
        {
          "output_type": "stream",
          "name": "stdout",
          "text": [
            "ณัฐธิดา\n",
            "623020435-1\n"
          ]
        }
      ]
    },
    {
      "cell_type": "code",
      "source": [
        "print('ณัฐธิดา',end='->')  # end =  จบบรรทัดด้วย\n",
        "print('623020435-1')"
      ],
      "metadata": {
        "colab": {
          "base_uri": "https://localhost:8080/"
        },
        "id": "iLNEG71ZO1gK",
        "outputId": "c6f2a32f-3340-4ba7-d447-969040e4a8a2"
      },
      "execution_count": null,
      "outputs": [
        {
          "output_type": "stream",
          "name": "stdout",
          "text": [
            "ณัฐธิดา->623020435-1\n"
          ]
        }
      ]
    },
    {
      "cell_type": "code",
      "source": [
        "print('ณัฐธิดา','623020435-1') # ว่าง sep= ไว้ เลยเป็นช่องว่าง"
      ],
      "metadata": {
        "colab": {
          "base_uri": "https://localhost:8080/"
        },
        "id": "P7S7sAA9PXyN",
        "outputId": "e17a0b21-969c-41f7-c58c-ceb9796c952a"
      },
      "execution_count": null,
      "outputs": [
        {
          "output_type": "stream",
          "name": "stdout",
          "text": [
            "ณัฐธิดา 623020435-1\n"
          ]
        }
      ]
    },
    {
      "cell_type": "code",
      "source": [
        "print('ณัฐธิดา','623020435-1',sep=' & ') # sep= กำหนดค่า = &"
      ],
      "metadata": {
        "colab": {
          "base_uri": "https://localhost:8080/"
        },
        "id": "V3n3VuB_O1da",
        "outputId": "61e6fce3-0ae7-4aa9-b1fa-377abe11bc2e"
      },
      "execution_count": null,
      "outputs": [
        {
          "output_type": "stream",
          "name": "stdout",
          "text": [
            "ณัฐธิดา & 623020435-1\n"
          ]
        }
      ]
    },
    {
      "cell_type": "markdown",
      "source": [
        "## input ของ function แบ่งเป็น 2 ชนิด (จำเป็นต้องใส่ กับ ไม่จำเป็นต้องใส่)"
      ],
      "metadata": {
        "id": "bE4Bcw47P_le"
      }
    },
    {
      "cell_type": "markdown",
      "source": [
        "ตัวอย่าง function `print_grade()` มี input 3 ตัว จำเป็นต้องใส่ 2 ตัว คือ name กับ id และไม่จำเป็นต้องใส่ 1 ตัว คือเกรด ซึ่งมีค่า default เป็น F"
      ],
      "metadata": {
        "id": "1Mk9rBROQ-6e"
      }
    },
    {
      "cell_type": "code",
      "source": [
        "def print_grade(name,id,grade = 'F'):\n",
        "    print(f'รหัสประจำตัว {id} ชื่อ {name}')   # process ให้แสดง รหัส และชื่อ\n",
        "    print(f'ได้เกรด {grade}') # process"
      ],
      "metadata": {
        "id": "ygU4MSqbO1aU"
      },
      "execution_count": null,
      "outputs": []
    },
    {
      "cell_type": "code",
      "source": [
        "print_grade('นายสิทธัตกะ จรัสแสง','623020541-2')"
      ],
      "metadata": {
        "colab": {
          "base_uri": "https://localhost:8080/"
        },
        "id": "JlcXZyMvRVQs",
        "outputId": "b778dee8-213c-4515-87c2-2da43ce269a7"
      },
      "execution_count": null,
      "outputs": [
        {
          "output_type": "stream",
          "name": "stdout",
          "text": [
            "รหัสประจำตัว 623020541-2 ชื่อ นายสิทธัตกะ จรัสแสง\n",
            "ได้เกรด F\n"
          ]
        }
      ]
    },
    {
      "cell_type": "code",
      "source": [
        "print_grade('นายสิทธัตกะ จรัสแสง','623020541-2','A')"
      ],
      "metadata": {
        "colab": {
          "base_uri": "https://localhost:8080/"
        },
        "id": "mhpcGajzRrqT",
        "outputId": "ca3df1f9-3fa7-4784-ac33-e5b3087f1b76"
      },
      "execution_count": null,
      "outputs": [
        {
          "output_type": "stream",
          "name": "stdout",
          "text": [
            "รหัสประจำตัว 623020541-2 ชื่อ นายสิทธัตกะ จรัสแสง\n",
            "ได้เกรด A\n"
          ]
        }
      ]
    },
    {
      "cell_type": "code",
      "source": [
        "print_grade(id='623020541-2',name='นายสิทธัตกะ จรัสแสง',grade='B+')  #กรณีที่มีตัวแปรเยอะ จำลำดับไม่ได้ ก็ระบุไปเลย"
      ],
      "metadata": {
        "colab": {
          "base_uri": "https://localhost:8080/"
        },
        "id": "u3QHMqUaRw3U",
        "outputId": "2a2a9388-82a4-45ac-af2f-99acb4b19cf0"
      },
      "execution_count": null,
      "outputs": [
        {
          "output_type": "stream",
          "name": "stdout",
          "text": [
            "รหัสประจำตัว 623020541-2 ชื่อ นายสิทธัตกะ จรัสแสง\n",
            "ได้เกรด B+\n"
          ]
        }
      ]
    },
    {
      "cell_type": "markdown",
      "source": [
        "# Looping (for)\n",
        "สำหรับทำงานเยอะๆ ซ้ำๆ"
      ],
      "metadata": {
        "id": "uvA7dX8xDeNB"
      }
    },
    {
      "cell_type": "markdown",
      "source": [
        "```python\n",
        "for member in listEx:       ## วนที่สมาชิก ใน list\n",
        "    do_something()\n",
        "```\n",
        "for ชื่อตัวแปร in list ที่จะเอามาใช้เป็นสมาชิกใน ตัวแปร:     \n",
        "    \n",
        "วนซ้ำ\n",
        "- วนซ้ำสมาชิกใน\n",
        "\n"
      ],
      "metadata": {
        "id": "qiGWoXEuTSph"
      }
    },
    {
      "cell_type": "code",
      "source": [
        "for member in [1,2,3,4,5,6]:\n",
        "    print(member)"
      ],
      "metadata": {
        "colab": {
          "base_uri": "https://localhost:8080/"
        },
        "id": "ErPNmt1wTQ3l",
        "outputId": "186f62e3-4c58-4971-dac3-55f603eeddd6"
      },
      "execution_count": null,
      "outputs": [
        {
          "output_type": "stream",
          "name": "stdout",
          "text": [
            "1\n",
            "2\n",
            "3\n",
            "4\n",
            "5\n",
            "6\n"
          ]
        }
      ]
    },
    {
      "cell_type": "code",
      "source": [
        "def print_name(name):   # name input รอรับ\n",
        "    print(f'ฉันชื่อ {name}') # กบก"
      ],
      "metadata": {
        "id": "OjXbkUvQU1H3"
      },
      "execution_count": null,
      "outputs": []
    },
    {
      "cell_type": "code",
      "source": [
        "for name in ['วัชราภรณ์','จุฑากาญจน์ ','ชลธิชา','ญาดา','กิตติคุณ']:  # ชื่อ name(ตัวแปร ที่จะไปดึงเอาสมาชิกเเต่ละตัวมาใช้ใน loop ) ที่เอาไปเป็น input\n",
        "    print_name(name) #จะไปเป็น input ของด้านบน"
      ],
      "metadata": {
        "colab": {
          "base_uri": "https://localhost:8080/"
        },
        "id": "O_PQSREoUn-6",
        "outputId": "5f6f8e22-37f0-43b1-a63a-8d57e20ae7ea"
      },
      "execution_count": null,
      "outputs": [
        {
          "output_type": "stream",
          "name": "stdout",
          "text": [
            "ฉันชื่อ วัชราภรณ์\n",
            "ฉันชื่อ จุฑากาญจน์ \n",
            "ฉันชื่อ ชลธิชา\n",
            "ฉันชื่อ ญาดา\n",
            "ฉันชื่อ กิตติคุณ\n"
          ]
        }
      ]
    },
    {
      "cell_type": "code",
      "source": [
        "list_name_id_grade = [['นางสาวเบญญาภา ระภูเขียว','623020527-6','B'],\n",
        "                      ['นางสาวทักษิณา ราชหุ่น','623021000-1','A'],\n",
        "                      ['นางสาวปลายฟ้า คำเพ็ง','623021005-1','C']]"
      ],
      "metadata": {
        "id": "HSqTdVfKWQhi"
      },
      "execution_count": null,
      "outputs": []
    },
    {
      "cell_type": "code",
      "source": [
        "for each in list_name_id_grade:\n",
        "    name = each[0] #สามาชิกตัวแรกของสมาชิกอันเเรกของอันใหญ่\n",
        "    id = each[1]\n",
        "    grade = each[2]\n",
        "    print_grade(name,id,grade)\n",
        "    print('----------------')"
      ],
      "metadata": {
        "colab": {
          "base_uri": "https://localhost:8080/"
        },
        "id": "hnz7HqbRXJId",
        "outputId": "b6ca07ab-dd00-4acd-884b-d6a6ee90e8ce"
      },
      "execution_count": null,
      "outputs": [
        {
          "output_type": "stream",
          "name": "stdout",
          "text": [
            "รหัสประจำตัว 623020527-6 ชื่อ นางสาวเบญญาภา ระภูเขียว\n",
            "ได้เกรด B\n",
            "----------------\n",
            "รหัสประจำตัว 623021000-1 ชื่อ นางสาวทักษิณา ราชหุ่น\n",
            "ได้เกรด A\n",
            "----------------\n",
            "รหัสประจำตัว 623021005-1 ชื่อ นางสาวปลายฟ้า คำเพ็ง\n",
            "ได้เกรด C\n",
            "----------------\n"
          ]
        }
      ]
    },
    {
      "cell_type": "markdown",
      "source": [
        "## ใช้ for loop เพิ่มสมาชิกใน list  *****"
      ],
      "metadata": {
        "id": "Xm7CXqFmYSB1"
      }
    },
    {
      "cell_type": "code",
      "source": [
        "#อยากได้ข้อมูลแยกกัน ชื่ออย่างเดียว/รหัสอย่างเดียว/เกรดอย่างเดียว\n",
        "list_name = [] #นิยมสร้าง list เปล่าๆก่อน\n",
        "list_id = []\n",
        "list_grade = []\n",
        "for each in list_name_id_grade:\n",
        "    list_name.append(each[0])\n",
        "    list_id.append(each[1])\n",
        "    list_grade.append(each[2])"
      ],
      "metadata": {
        "id": "ap0A83G3YRLF"
      },
      "execution_count": null,
      "outputs": []
    },
    {
      "cell_type": "code",
      "source": [
        "list_name"
      ],
      "metadata": {
        "colab": {
          "base_uri": "https://localhost:8080/"
        },
        "id": "Hiq0wvZgY6GM",
        "outputId": "2b633588-c821-4c3a-b857-e41f2cc0d535"
      },
      "execution_count": null,
      "outputs": [
        {
          "output_type": "execute_result",
          "data": {
            "text/plain": [
              "['นางสาวเบญญาภา ระภูเขียว', 'นางสาวทักษิณา ราชหุ่น', 'นางสาวปลายฟ้า คำเพ็ง']"
            ]
          },
          "metadata": {},
          "execution_count": 23
        }
      ]
    },
    {
      "cell_type": "code",
      "source": [
        "list_id"
      ],
      "metadata": {
        "colab": {
          "base_uri": "https://localhost:8080/"
        },
        "id": "Xhktul9p9u5k",
        "outputId": "ee396bcf-a773-4f78-e4eb-78de3fa582b4"
      },
      "execution_count": null,
      "outputs": [
        {
          "output_type": "execute_result",
          "data": {
            "text/plain": [
              "['623020527-6', '623021000-1', '623021005-1']"
            ]
          },
          "metadata": {},
          "execution_count": 24
        }
      ]
    },
    {
      "cell_type": "code",
      "source": [
        "list_grade"
      ],
      "metadata": {
        "colab": {
          "base_uri": "https://localhost:8080/"
        },
        "id": "MJ_KJpUE9xig",
        "outputId": "33247bab-d54d-4045-9e0e-413037f89c7a"
      },
      "execution_count": null,
      "outputs": [
        {
          "output_type": "execute_result",
          "data": {
            "text/plain": [
              "['B', 'A', 'C']"
            ]
          },
          "metadata": {},
          "execution_count": 25
        }
      ]
    },
    {
      "cell_type": "markdown",
      "source": [
        "### การวนลูปด้วย `range()`\n",
        "\n",
        "- สร้าง list 0 - ก่อนเลขนั้น\n",
        "- วนลูปแบบซ้ำๆ ไม่ต้องการเปลี่ยนแปลงอะไร"
      ],
      "metadata": {
        "id": "JbhEds7TbWPS"
      }
    },
    {
      "cell_type": "code",
      "source": [
        "for i in range(100):\n",
        "    print('งง', end = ' ')"
      ],
      "metadata": {
        "colab": {
          "base_uri": "https://localhost:8080/"
        },
        "id": "HxXoQFZbbVpT",
        "outputId": "e42cb0f2-9cf2-4bf9-c303-73948b7e2cd9"
      },
      "execution_count": null,
      "outputs": [
        {
          "output_type": "stream",
          "name": "stdout",
          "text": [
            "งง งง งง งง งง งง งง งง งง งง งง งง งง งง งง งง งง งง งง งง งง งง งง งง งง งง งง งง งง งง งง งง งง งง งง งง งง งง งง งง งง งง งง งง งง งง งง งง งง งง งง งง งง งง งง งง งง งง งง งง งง งง งง งง งง งง งง งง งง งง งง งง งง งง งง งง งง งง งง งง งง งง งง งง งง งง งง งง งง งง งง งง งง งง งง งง งง งง งง งง "
          ]
        }
      ]
    },
    {
      "cell_type": "code",
      "source": [
        "list(range(20))"
      ],
      "metadata": {
        "colab": {
          "base_uri": "https://localhost:8080/"
        },
        "id": "sasVkccPaJ_B",
        "outputId": "3835cf83-7410-4df0-f4b0-a412cf62b2f7"
      },
      "execution_count": null,
      "outputs": [
        {
          "output_type": "execute_result",
          "data": {
            "text/plain": [
              "[0, 1, 2, 3, 4, 5, 6, 7, 8, 9, 10, 11, 12, 13, 14, 15, 16, 17, 18, 19]"
            ]
          },
          "metadata": {},
          "execution_count": 27
        }
      ]
    },
    {
      "cell_type": "code",
      "source": [
        "list(range(5,20)) # เริ่มจาก 5 ก่อน 20"
      ],
      "metadata": {
        "colab": {
          "base_uri": "https://localhost:8080/"
        },
        "id": "5nlvP3RoadjF",
        "outputId": "46d91e8c-310c-497b-f0c6-9b674ca56276"
      },
      "execution_count": null,
      "outputs": [
        {
          "output_type": "execute_result",
          "data": {
            "text/plain": [
              "[5, 6, 7, 8, 9, 10, 11, 12, 13, 14, 15, 16, 17, 18, 19]"
            ]
          },
          "metadata": {},
          "execution_count": 28
        }
      ]
    },
    {
      "cell_type": "markdown",
      "source": [
        "### Loop ซ้อน Loop (nested loop)\n"
      ],
      "metadata": {
        "id": "OwzYAkaCcRR7"
      }
    },
    {
      "cell_type": "code",
      "source": [
        "#แม่สูตรคูณ\n",
        "for mem1 in range(2,5): #แม่[2,3,4]\n",
        "    print(f'now mem1 = {mem1}')\n",
        "    for mem2 in range(1,13): #[1,2,3,4,5,6,7,8,9,10,11,12]ตัวมาคูณ\n",
        "        print(f'{mem1} x {mem2} = {mem1*mem2}')\n",
        "    print(f'end inner for mem1 = {mem1}') #จบในลูป"
      ],
      "metadata": {
        "colab": {
          "base_uri": "https://localhost:8080/"
        },
        "id": "JpnID7pKcOpu",
        "outputId": "71d72efe-35c9-4bb6-9457-26c70107bc97"
      },
      "execution_count": null,
      "outputs": [
        {
          "output_type": "stream",
          "name": "stdout",
          "text": [
            "now mem1 = 2\n",
            "2 x 1 = 2\n",
            "2 x 2 = 4\n",
            "2 x 3 = 6\n",
            "2 x 4 = 8\n",
            "2 x 5 = 10\n",
            "2 x 6 = 12\n",
            "2 x 7 = 14\n",
            "2 x 8 = 16\n",
            "2 x 9 = 18\n",
            "2 x 10 = 20\n",
            "2 x 11 = 22\n",
            "2 x 12 = 24\n",
            "end inner for mem1 = 2\n",
            "now mem1 = 3\n",
            "3 x 1 = 3\n",
            "3 x 2 = 6\n",
            "3 x 3 = 9\n",
            "3 x 4 = 12\n",
            "3 x 5 = 15\n",
            "3 x 6 = 18\n",
            "3 x 7 = 21\n",
            "3 x 8 = 24\n",
            "3 x 9 = 27\n",
            "3 x 10 = 30\n",
            "3 x 11 = 33\n",
            "3 x 12 = 36\n",
            "end inner for mem1 = 3\n",
            "now mem1 = 4\n",
            "4 x 1 = 4\n",
            "4 x 2 = 8\n",
            "4 x 3 = 12\n",
            "4 x 4 = 16\n",
            "4 x 5 = 20\n",
            "4 x 6 = 24\n",
            "4 x 7 = 28\n",
            "4 x 8 = 32\n",
            "4 x 9 = 36\n",
            "4 x 10 = 40\n",
            "4 x 11 = 44\n",
            "4 x 12 = 48\n",
            "end inner for mem1 = 4\n"
          ]
        }
      ]
    },
    {
      "cell_type": "markdown",
      "source": [
        "### Loop in Function"
      ],
      "metadata": {
        "id": "BHURDfVAf8Jz"
      }
    },
    {
      "cell_type": "code",
      "source": [
        "def print_grade_loop(names,grades): # names,grades มีหลายสมาชิก เป็นlist\n",
        "    for n,g in zip(names,grades): # The zip() function returns a zip object, which is an iterator of tuples where the first item in each passed iterator is paired together, and then the second item in each passed iterator are paired together etc.\n",
        "        print(f'{n} ได้เกรด {g}')  #  zip การจับคู่ ของเเต่ละ list ในตำแหน่เดียวกัน // จับ 2 list มาร่วมกัน"
      ],
      "metadata": {
        "id": "Egjjd5fecOew"
      },
      "execution_count": null,
      "outputs": []
    },
    {
      "cell_type": "code",
      "source": [
        "print_grade_loop(list_name,list_grade)"
      ],
      "metadata": {
        "colab": {
          "base_uri": "https://localhost:8080/"
        },
        "id": "XiZ_FbtecP5P",
        "outputId": "618dedc5-47cd-4f36-e62e-78bc3b48f4bd"
      },
      "execution_count": null,
      "outputs": [
        {
          "output_type": "stream",
          "name": "stdout",
          "text": [
            "นางสาวเบญญาภา ระภูเขียว ได้เกรด B\n",
            "นางสาวทักษิณา ราชหุ่น ได้เกรด A\n",
            "นางสาวปลายฟ้า คำเพ็ง ได้เกรด C\n"
          ]
        }
      ]
    },
    {
      "cell_type": "markdown",
      "source": [
        "# HW2.5 สร้าง function print logo พรรคก้าวไกล โดย input พื้นหลังได้"
      ],
      "metadata": {
        "id": "T7vTr-1oIWOQ"
      }
    },
    {
      "cell_type": "code",
      "source": [
        "import numpy as np\n",
        "bg = 0\n",
        "pbg = bg * np.ones((25,18))\n",
        "gg = 11\n",
        "pbg[1,1:20] = gg\n",
        "pbg[2,1:20] = gg\n",
        "pbg[3,1:20] = gg\n",
        "pbg[4,16:20] = gg\n",
        "pbg[5,15:19] = gg\n",
        "pbg[6,14:18] = gg\n",
        "pbg[7,13:17] = gg\n",
        "pbg[8,12:16] = gg\n",
        "pbg[9,11:15] = gg\n",
        "pbg[10,10:14] = gg\n",
        "pbg[11,9:13] = gg\n",
        "pbg[12,8:12] = gg\n",
        "pbg[13,7:11] = gg\n",
        "pbg[14,6:10] = gg\n",
        "pbg[15,5:9] = gg\n",
        "pbg[16,4:8] = gg\n",
        "pbg[17,3:7] = gg\n",
        "pbg[18,2:6] = gg\n",
        "pbg[5,1:12] = gg\n",
        "pbg[6,1:11] = gg\n",
        "pbg[7,8:10] = gg\n",
        "pbg[8,7:9] = gg\n",
        "pbg[9,6:8] = gg\n",
        "pbg[10,5:7] = gg\n",
        "pbg[11,4:6] = gg\n",
        "pbg[12,3:5] = gg\n",
        "pbg[13,2:4] = gg\n",
        "pbg[14,1:3] = gg\n",
        "\n",
        "\n",
        "\n",
        "print(pbg)"
      ],
      "metadata": {
        "colab": {
          "base_uri": "https://localhost:8080/"
        },
        "id": "tK6tucCJxyfp",
        "outputId": "cf626811-6dc8-4b19-ba45-5cc0780005a6"
      },
      "execution_count": 1,
      "outputs": [
        {
          "output_type": "stream",
          "name": "stdout",
          "text": [
            "[[ 0.  0.  0.  0.  0.  0.  0.  0.  0.  0.  0.  0.  0.  0.  0.  0.  0.  0.]\n",
            " [ 0. 11. 11. 11. 11. 11. 11. 11. 11. 11. 11. 11. 11. 11. 11. 11. 11. 11.]\n",
            " [ 0. 11. 11. 11. 11. 11. 11. 11. 11. 11. 11. 11. 11. 11. 11. 11. 11. 11.]\n",
            " [ 0. 11. 11. 11. 11. 11. 11. 11. 11. 11. 11. 11. 11. 11. 11. 11. 11. 11.]\n",
            " [ 0.  0.  0.  0.  0.  0.  0.  0.  0.  0.  0.  0.  0.  0.  0.  0. 11. 11.]\n",
            " [ 0. 11. 11. 11. 11. 11. 11. 11. 11. 11. 11. 11.  0.  0.  0. 11. 11. 11.]\n",
            " [ 0. 11. 11. 11. 11. 11. 11. 11. 11. 11. 11.  0.  0.  0. 11. 11. 11. 11.]\n",
            " [ 0.  0.  0.  0.  0.  0.  0.  0. 11. 11.  0.  0.  0. 11. 11. 11. 11.  0.]\n",
            " [ 0.  0.  0.  0.  0.  0.  0. 11. 11.  0.  0.  0. 11. 11. 11. 11.  0.  0.]\n",
            " [ 0.  0.  0.  0.  0.  0. 11. 11.  0.  0.  0. 11. 11. 11. 11.  0.  0.  0.]\n",
            " [ 0.  0.  0.  0.  0. 11. 11.  0.  0.  0. 11. 11. 11. 11.  0.  0.  0.  0.]\n",
            " [ 0.  0.  0.  0. 11. 11.  0.  0.  0. 11. 11. 11. 11.  0.  0.  0.  0.  0.]\n",
            " [ 0.  0.  0. 11. 11.  0.  0.  0. 11. 11. 11. 11.  0.  0.  0.  0.  0.  0.]\n",
            " [ 0.  0. 11. 11.  0.  0.  0. 11. 11. 11. 11.  0.  0.  0.  0.  0.  0.  0.]\n",
            " [ 0. 11. 11.  0.  0.  0. 11. 11. 11. 11.  0.  0.  0.  0.  0.  0.  0.  0.]\n",
            " [ 0.  0.  0.  0.  0. 11. 11. 11. 11.  0.  0.  0.  0.  0.  0.  0.  0.  0.]\n",
            " [ 0.  0.  0.  0. 11. 11. 11. 11.  0.  0.  0.  0.  0.  0.  0.  0.  0.  0.]\n",
            " [ 0.  0.  0. 11. 11. 11. 11.  0.  0.  0.  0.  0.  0.  0.  0.  0.  0.  0.]\n",
            " [ 0.  0. 11. 11. 11. 11.  0.  0.  0.  0.  0.  0.  0.  0.  0.  0.  0.  0.]\n",
            " [ 0.  0.  0.  0.  0.  0.  0.  0.  0.  0.  0.  0.  0.  0.  0.  0.  0.  0.]\n",
            " [ 0.  0.  0.  0.  0.  0.  0.  0.  0.  0.  0.  0.  0.  0.  0.  0.  0.  0.]\n",
            " [ 0.  0.  0.  0.  0.  0.  0.  0.  0.  0.  0.  0.  0.  0.  0.  0.  0.  0.]\n",
            " [ 0.  0.  0.  0.  0.  0.  0.  0.  0.  0.  0.  0.  0.  0.  0.  0.  0.  0.]\n",
            " [ 0.  0.  0.  0.  0.  0.  0.  0.  0.  0.  0.  0.  0.  0.  0.  0.  0.  0.]\n",
            " [ 0.  0.  0.  0.  0.  0.  0.  0.  0.  0.  0.  0.  0.  0.  0.  0.  0.  0.]]\n"
          ]
        }
      ]
    },
    {
      "cell_type": "markdown",
      "source": [
        "# Conditional Statement (if)"
      ],
      "metadata": {
        "id": "AdMUneO0Di6B"
      }
    },
    {
      "cell_type": "markdown",
      "source": [
        "```python\n",
        "if condition1:\n",
        "    do_something() ## ถ้า condition1 เป็นจริง ทำ do_something()\n",
        "elif condition2:\n",
        "    do_another_thing()  ## ถ้า condition1 ไม่เป็นจริงแต่ condition2 เป็นจริง ทำ do_another_thing()\n",
        "else:\n",
        "    do_the_last_thing() ## ถ้าไม่มี condition ไหนเป็นจริงเลย ทำ do_the_last_thing()\n",
        "```"
      ],
      "metadata": {
        "id": "E9svJdMGh6e6"
      }
    },
    {
      "cell_type": "code",
      "source": [
        "for n in list_name:\n",
        "    if len(n)>20:  #ถ้าจำนวนชื่อมีตัวอักสร มากกว่า 20 ตัวอักษร\n",
        "        print(f'{n} ได้เกรด A')\n",
        "    else:\n",
        "        print(f'{n} ได้เกรด F')"
      ],
      "metadata": {
        "colab": {
          "base_uri": "https://localhost:8080/"
        },
        "id": "WBifeHsJcP1v",
        "outputId": "54be6f87-28c9-4c43-c24c-b5ae50eb4480"
      },
      "execution_count": null,
      "outputs": [
        {
          "output_type": "stream",
          "name": "stdout",
          "text": [
            "นางสาวเบญญาภา ระภูเขียว ได้เกรด A\n",
            "นางสาวทักษิณา ราชหุ่น ได้เกรด A\n",
            "นางสาวปลายฟ้า คำเพ็ง ได้เกรด F\n"
          ]
        }
      ]
    },
    {
      "cell_type": "markdown",
      "source": [
        "### operator ที่ใช้ตรวจสอบ condition\n",
        "\n",
        "== (เท่ากับ) , != (ไม่เท่ากับ), >=, <=, <, >, and, or\n",
        "- ผลลัพธ์มีแค่ Ture flase"
      ],
      "metadata": {
        "id": "AepkrHEKkA7v"
      }
    },
    {
      "cell_type": "code",
      "source": [
        "a = 10 == 20\n",
        "print(a)"
      ],
      "metadata": {
        "id": "sw23UdfnkASr",
        "outputId": "69d2f823-f84b-4c2a-e629-97a2c3d06ab3",
        "colab": {
          "base_uri": "https://localhost:8080/"
        }
      },
      "execution_count": null,
      "outputs": [
        {
          "output_type": "stream",
          "name": "stdout",
          "text": [
            "False\n"
          ]
        }
      ]
    },
    {
      "cell_type": "code",
      "source": [
        "b = 15 <= 20\n",
        "print(b)"
      ],
      "metadata": {
        "colab": {
          "base_uri": "https://localhost:8080/"
        },
        "id": "MpOwImpecOYE",
        "outputId": "44b7b73a-e32e-4e69-8e2a-83e324bf4938"
      },
      "execution_count": null,
      "outputs": [
        {
          "output_type": "stream",
          "name": "stdout",
          "text": [
            "True\n"
          ]
        }
      ]
    },
    {
      "cell_type": "code",
      "source": [
        "b = (15 <= 20) and (10==20)\n",
        "print(b)"
      ],
      "metadata": {
        "colab": {
          "base_uri": "https://localhost:8080/"
        },
        "id": "aT9-I2zzd87i",
        "outputId": "e9232763-6e57-4f19-e1a2-8606e487efed"
      },
      "execution_count": null,
      "outputs": [
        {
          "output_type": "stream",
          "name": "stdout",
          "text": [
            "False\n"
          ]
        }
      ]
    },
    {
      "cell_type": "code",
      "source": [
        "if a:             # a เป็น false ก็เลยไม่แสดงค่า\n",
        "    print('x')"
      ],
      "metadata": {
        "id": "88Hoo4AgcOTs"
      },
      "execution_count": null,
      "outputs": []
    },
    {
      "cell_type": "code",
      "source": [
        "if True:\n",
        "    print('x')"
      ],
      "metadata": {
        "colab": {
          "base_uri": "https://localhost:8080/"
        },
        "id": "M7ye6epncOGL",
        "outputId": "97c409fd-0cbd-4aa7-f9fd-656c29ef646d"
      },
      "execution_count": null,
      "outputs": [
        {
          "output_type": "stream",
          "name": "stdout",
          "text": [
            "x\n"
          ]
        }
      ]
    },
    {
      "cell_type": "code",
      "execution_count": null,
      "metadata": {
        "id": "gdx9D1eADPXK"
      },
      "outputs": [],
      "source": [
        "if a and b:\n",
        "    print('x')"
      ]
    },
    {
      "cell_type": "code",
      "source": [
        "if a or b:\n",
        "    print('x')"
      ],
      "metadata": {
        "id": "-_K6tNsklY0O"
      },
      "execution_count": null,
      "outputs": []
    },
    {
      "cell_type": "markdown",
      "source": [
        "# HW\n",
        "เขียน function ตัดเกรด โดยที่ input เป็นคะแนน(0-100) , output เป็นเกรด (F-A) หรือ 'ไม่สามารถตัดเกรดได้'\n",
        "\n",
        "วนลูปตัดเกรด input = [1,50,65,90,101,-5,49,'ก',80]\n",
        "\n",
        "กำหนด\n",
        "\n",
        "*  ถ้าคะแนนอยู่ระหว่างมากกว่าหรือเท่ากับ  0  แต่น้อยกว่า 50 จะได้เกรด F\n",
        "*  ถ้าคะแนนอยู่ระหว่างมากกว่าหรือเท่ากับ 50 แต่น้อยกว่า 55 จะได้เกรด D\n",
        "*  ถ้าคะแนนอยู่ระหว่างมากกว่าหรือเท่ากับ 55 แต่น้อยกว่า 60 จะได้เกรด D+\n",
        "*  ถ้าคะแนนอยู่ระหว่างมากกว่าหรือเท่ากับ 60 แต่น้อยกว่า 65 จะได้เกรด C\n",
        "*  ถ้าคะแนนอยู่ระหว่างมากกว่าหรือเท่ากับ 65 แต่น้อยกว่า 70 จะได้เกรด C+\n",
        "*  ถ้าคะแนนอยู่ระหว่างมากกว่าหรือเท่ากับ 70 แต่น้อยกว่า 75 จะได้เกรด B\n",
        "*  ถ้าคะแนนอยู่ระหว่างมากกว่าหรือเท่ากับ 75 แต่น้อยกว่า 80 จะได้เกรด B+\n",
        "*  ถ้าคะแนนอยู่ระหว่างมากกว่าหรือเท่ากับ 80  จะได้เกรด A\n",
        "*  ถ้าคะแนนไม่อยู่ในช่วง 0-100 ให้ return 'ไม่สามารถตัดเกรดได้'"
      ],
      "metadata": {
        "id": "jgF2Urtylpqu"
      }
    },
    {
      "cell_type": "code",
      "source": [
        "input = [1,50,65,90,101,-5,49,'ก',80]"
      ],
      "metadata": {
        "id": "xUUhDR3GldrZ"
      },
      "execution_count": null,
      "outputs": []
    },
    {
      "cell_type": "code",
      "source": [
        "'ก' is not int()"
      ],
      "metadata": {
        "id": "5uE-XFrS_oKK",
        "outputId": "bcbdd67c-0610-4660-9c8b-323c7540eb08",
        "colab": {
          "base_uri": "https://localhost:8080/"
        }
      },
      "execution_count": null,
      "outputs": [
        {
          "output_type": "execute_result",
          "data": {
            "text/plain": [
              "True"
            ]
          },
          "metadata": {},
          "execution_count": 37
        }
      ]
    },
    {
      "cell_type": "code",
      "source": [
        "type('')"
      ],
      "metadata": {
        "id": "VpLRCk6P_-S9",
        "outputId": "e3d192e7-2b18-4116-f8ff-190983901902",
        "colab": {
          "base_uri": "https://localhost:8080/"
        }
      },
      "execution_count": null,
      "outputs": [
        {
          "output_type": "execute_result",
          "data": {
            "text/plain": [
              "str"
            ]
          },
          "metadata": {},
          "execution_count": 38
        }
      ]
    },
    {
      "cell_type": "markdown",
      "source": [
        "func ควรแยกกับ for"
      ],
      "metadata": {
        "id": "jaDC5TnpKY95"
      }
    },
    {
      "cell_type": "code",
      "source": [
        "def grading(x):\n",
        "    if type(x) is int:     # type(x) ตรวจสอบชนิดของตัวแปร\n",
        "        if x < 0:\n",
        "            y =f'คะแนน {x} ไม่สามารถตัดเกรดได้'\n",
        "        elif x < 50:\n",
        "            y = f'คะแนน {x} ได้เกรด F'\n",
        "        elif x < 55:\n",
        "            y = f'คะแนน {x} ได้เกรด D'\n",
        "        elif x < 60:\n",
        "            y = f'คะแนน {x} ได้เกรด D+'\n",
        "        elif x < 65:\n",
        "            y = f'คะแนน {x} ได้เกรด C'\n",
        "        elif x < 70:\n",
        "            y = f'คะแนน {x} ได้เกรด C+'\n",
        "        elif x < 75:\n",
        "            y = f'คะแนน {x} ได้เกรด B'\n",
        "        elif x < 80:\n",
        "            y = f'คะแนน {x} ได้เกรด B+'\n",
        "        elif x <= 100:\n",
        "            y = f'คะแนน {x} ได้เกรด A'\n",
        "        else:\n",
        "            y =f'คะแนน {x} ไม่สามารถตัดเกรดได้'\n",
        "    else:\n",
        "        y =f'คะแนน {x} ไม่สามารถตัดเกรดได้'\n",
        "\n",
        "    return y"
      ],
      "metadata": {
        "id": "NlkxvQbD_cSO"
      },
      "execution_count": null,
      "outputs": []
    },
    {
      "cell_type": "code",
      "source": [
        "type(1) is int"
      ],
      "metadata": {
        "id": "dx_p-DkvCcnL",
        "outputId": "0a6f6ca4-4935-4799-c4ea-1add1fdf73c6",
        "colab": {
          "base_uri": "https://localhost:8080/"
        }
      },
      "execution_count": null,
      "outputs": [
        {
          "output_type": "execute_result",
          "data": {
            "text/plain": [
              "True"
            ]
          },
          "metadata": {},
          "execution_count": 40
        }
      ]
    },
    {
      "cell_type": "code",
      "source": [
        "grading(1)"
      ],
      "metadata": {
        "id": "1Mj4zb4LCSB6",
        "outputId": "7cbadf30-201c-4bbc-dfb1-be8eddfba883",
        "colab": {
          "base_uri": "https://localhost:8080/",
          "height": 36
        }
      },
      "execution_count": null,
      "outputs": [
        {
          "output_type": "execute_result",
          "data": {
            "text/plain": [
              "'คะแนน 1 ได้เกรด F'"
            ],
            "application/vnd.google.colaboratory.intrinsic+json": {
              "type": "string"
            }
          },
          "metadata": {},
          "execution_count": 41
        }
      ]
    },
    {
      "cell_type": "code",
      "source": [
        "for i in input:\n",
        "    print(grading(i))"
      ],
      "metadata": {
        "id": "p_cE3Je8Bueg",
        "outputId": "6fc71dde-12e1-4e1f-9e9c-dddb35504dcf",
        "colab": {
          "base_uri": "https://localhost:8080/"
        }
      },
      "execution_count": null,
      "outputs": [
        {
          "output_type": "stream",
          "name": "stdout",
          "text": [
            "คะแนน 1 ได้เกรด F\n",
            "คะแนน 50 ได้เกรด D\n",
            "คะแนน 65 ได้เกรด C+\n",
            "คะแนน 90 ได้เกรด A\n",
            "คะแนน 101 ไม่สามารถตัดเกรดได้\n",
            "คะแนน -5 ไม่สามารถตัดเกรดได้\n",
            "คะแนน 49 ได้เกรด F\n",
            "คะแนน ก ไม่สามารถตัดเกรดได้\n",
            "คะแนน 80 ได้เกรด A\n"
          ]
        }
      ]
    },
    {
      "cell_type": "code",
      "source": [],
      "metadata": {
        "id": "if_oHtWlB90j"
      },
      "execution_count": null,
      "outputs": []
    }
  ]
}